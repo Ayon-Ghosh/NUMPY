{
 "cells": [
  {
   "cell_type": "markdown",
   "metadata": {},
   "source": [
    "Write a function so that the columns of the output matrix are powers of the input vector.  \n",
    "The order of the powers is determined by the increasing boolean argument. Specifically, when increasing is False, the i-th output column is the input vector raised element-wise to the power of N - i - 1.\n",
    " \n",
    "HINT: Such a matrix with a geometric progression in each row is named for AlexandreTheophile Vandermonde. "
   ]
  },
  {
   "cell_type": "markdown",
   "metadata": {},
   "source": [
    "https://docs.scipy.org/doc/numpy-1.12.0/reference/generated/numpy.vander.html"
   ]
  },
  {
   "cell_type": "code",
   "execution_count": 2,
   "metadata": {},
   "outputs": [],
   "source": [
    "import numpy as np\n",
    "import scipy as scp"
   ]
  },
  {
   "cell_type": "code",
   "execution_count": 3,
   "metadata": {},
   "outputs": [],
   "source": [
    "def vander(X, N):\n",
    "    return np.vander(X,N)"
   ]
  },
  {
   "cell_type": "code",
   "execution_count": 4,
   "metadata": {},
   "outputs": [
    {
     "data": {
      "text/plain": [
       "array([[   1,    1,    1,    1,    1,    1],\n",
       "       [  32,   16,    8,    4,    2,    1],\n",
       "       [ 243,   81,   27,    9,    3,    1],\n",
       "       [1024,  256,   64,   16,    4,    1],\n",
       "       [3125,  625,  125,   25,    5,    1]])"
      ]
     },
     "execution_count": 4,
     "metadata": {},
     "output_type": "execute_result"
    }
   ],
   "source": [
    "vander([1,2,3,4,5],6)"
   ]
  },
  {
   "cell_type": "markdown",
   "metadata": {},
   "source": [
    "Given a sequence of n values x1, x2, ..., xn and a window size k>0, the k-th moving average of the given sequence is defined as follows: \n",
    " \n",
    "The moving average sequence has n-k+1 elements as shown below. \n",
    " \n",
    "The moving averages with k=4 of a ten-value sequence (n=10) is shown below \n",
    " \n",
    "i 1  2  3  4  5  6  7  8  9 10  ===== == == == == == == == == == ==  Input 10 20 30 40 50 60 70 80 90 100  y1      25 = (10+20+30+40)/4  y2      35 = (20+30+40+50)/4  y3      45 = (30+40+50+60)/4  y4 55 = (40+50+60+70)/4 y5 65 = (50+60+70+80)/4 y6 75 = (60+70+80+90)/4 y7 85 = (70+80+90+100)/4 \n",
    "\n",
    "Thus, the moving average sequence has n-k+1=10-4+1=7 values. "
   ]
  },
  {
   "cell_type": "code",
   "execution_count": 16,
   "metadata": {},
   "outputs": [
    {
     "data": {
      "text/plain": [
       "[5.0, 4.67, 5.67, 6.67, 9.67, 28.67, 49.33, 72.67, 84.0, 93.33, 116.33]"
      ]
     },
     "execution_count": 16,
     "metadata": {},
     "output_type": "execute_result"
    }
   ],
   "source": [
    "def moving_avg(X,n):\n",
    "    result = []\n",
    "    for i in range(len(X)-n +1):\n",
    "        temp = round(np.mean(X[i:i+n]),2)\n",
    "        result.append(temp)\n",
    "    return result\n",
    "moving_avg([3, 5, 7, 2, 8, 10, 11, 65, 72, 81, 99, 100, 150],3)"
   ]
  }
 ],
 "metadata": {
  "kernelspec": {
   "display_name": "Python 3",
   "language": "python",
   "name": "python3"
  },
  "language_info": {
   "codemirror_mode": {
    "name": "ipython",
    "version": 3
   },
   "file_extension": ".py",
   "mimetype": "text/x-python",
   "name": "python",
   "nbconvert_exporter": "python",
   "pygments_lexer": "ipython3",
   "version": "3.7.4"
  }
 },
 "nbformat": 4,
 "nbformat_minor": 2
}
